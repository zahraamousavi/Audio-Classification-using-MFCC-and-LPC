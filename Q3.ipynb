{
 "cells": [
  {
   "cell_type": "markdown",
   "metadata": {
    "id": "pCAcDqSvNVI-"
   },
   "source": [
    "**import modules**"
   ]
  },
  {
   "cell_type": "code",
   "execution_count": 29,
   "metadata": {
    "id": "ut_UkagGNZo1"
   },
   "outputs": [],
   "source": [
    "import numpy as np\n",
    "import librosa\n",
    "import warnings\n",
    "import os\n",
    "from scipy.io import wavfile\n",
    "import sys\n",
    "import utils.PreProcess as PreProcess\n",
    "import utils.FeatureExtractor as FeatureExtractor\n",
    "import utils.Distance as Distance\n",
    "import utils.KNN as KNN\n",
    "warnings.filterwarnings('ignore')"
   ]
  },
  {
   "cell_type": "markdown",
   "metadata": {
    "id": "XCvpUZ7hNfXF"
   },
   "source": [
    "**read files**"
   ]
  },
  {
   "cell_type": "markdown",
   "metadata": {
    "id": "Mskn1VcSUMGZ"
   },
   "source": [
    "save file names"
   ]
  },
  {
   "cell_type": "code",
   "execution_count": 25,
   "metadata": {
    "id": "rHBfBFSNNgKE"
   },
   "outputs": [],
   "source": [
    "zero_names, one_names, two_names, three_names, four_names, five_names, six_names, seven_names, eight_names, nine_names = [], [], [], [], [], [], [], [], [], []\n",
    "zero_names_test, one_names_test, two_names_test, three_names_test, four_names_test, five_names_test, six_names_test, seven_names_test, eight_names_test, nine_names_test = [], [], [], [], [], [], [], [], [], []\n",
    "\n",
    "# save name of all files\n",
    "for file_name in os.listdir('data/TrainSet/0'):\n",
    "  zero_names.append(file_name)\n",
    "for file_name in os.listdir('data/TrainSet/1'):\n",
    "  one_names.append(file_name)\n",
    "for file_name in os.listdir('data/TrainSet/2'):\n",
    "  two_names.append(file_name)\n",
    "for file_name in os.listdir('data/TrainSet/3'):\n",
    "  three_names.append(file_name)\n",
    "for file_name in os.listdir('data/TrainSet/4'):\n",
    "  four_names.append(file_name)\n",
    "for file_name in os.listdir('data/TrainSet/5'):\n",
    "  five_names.append(file_name)\n",
    "for file_name in os.listdir('data/TrainSet/6'):\n",
    "  six_names.append(file_name)\n",
    "for file_name in os.listdir('data/TrainSet/7'):\n",
    "  seven_names.append(file_name)\n",
    "for file_name in os.listdir('data/TrainSet/8'):\n",
    "  eight_names.append(file_name)\n",
    "for file_name in os.listdir('data/TrainSet/9'):\n",
    "  nine_names.append(file_name)\n",
    "  \n",
    "# test data\n",
    "for file_name in os.listdir('data/TestSet/0'):\n",
    "  zero_names_test.append(file_name)\n",
    "for file_name in os.listdir('data/TestSet/1'):\n",
    "  one_names_test.append(file_name)\n",
    "for file_name in os.listdir('data/TestSet/2'):\n",
    "  two_names_test.append(file_name)\n",
    "for file_name in os.listdir('data/TestSet/3'):\n",
    "  three_names_test.append(file_name)\n",
    "for file_name in os.listdir('data/TestSet/4'):\n",
    "  four_names_test.append(file_name)\n",
    "for file_name in os.listdir('data/TestSet/5'):\n",
    "  five_names_test.append(file_name)\n",
    "for file_name in os.listdir('data/TestSet/6'):\n",
    "  six_names_test.append(file_name)\n",
    "for file_name in os.listdir('data/TestSet/7'):\n",
    "  seven_names_test.append(file_name)\n",
    "for file_name in os.listdir('data/TestSet/8'):\n",
    "  eight_names_test.append(file_name)\n",
    "for file_name in os.listdir('data/TestSet/9'):\n",
    "  nine_names_test.append(file_name)"
   ]
  },
  {
   "cell_type": "markdown",
   "metadata": {
    "id": "FSXyIyhDUtGG"
   },
   "source": [
    "save data of each train and test file"
   ]
  },
  {
   "cell_type": "code",
   "execution_count": 26,
   "metadata": {
    "id": "sKyk7dXKUsIM"
   },
   "outputs": [],
   "source": [
    "zeros, ones, twos, threes, fours, fives, sixes, sevens, eights, nines = [], [], [], [], [], [], [], [], [], []\n",
    "zeros_test, ones_test, twos_test, threes_test, fours_test, fives_test, sixes_test, sevens_test, eights_test, nines_test = [], [], [], [], [], [], [], [], [], []\n",
    "\n",
    "# save signals of each number\n",
    "for i in range(50):\n",
    "  zeros.append(wavfile.read('data/TrainSet/0/'+zero_names[i])[1])\n",
    "for i in range(50):\n",
    "  ones.append(wavfile.read('data/TrainSet/1/'+one_names[i])[1])\n",
    "for i in range(50):\n",
    "  twos.append(wavfile.read('data/TrainSet/2/'+two_names[i])[1])\n",
    "for i in range(50):\n",
    "  threes.append(wavfile.read('data/TrainSet/3/'+three_names[i])[1])\n",
    "for i in range(50):\n",
    "  fours.append(wavfile.read('data/TrainSet/4/'+four_names[i])[1])\n",
    "for i in range(50):\n",
    "  fives.append(wavfile.read('data/TrainSet/5/'+five_names[i])[1])\n",
    "for i in range(50):\n",
    "  sixes.append(wavfile.read('data/TrainSet/6/'+six_names[i])[1])\n",
    "for i in range(50):\n",
    "  sevens.append(wavfile.read('data/TrainSet/7/'+seven_names[i])[1])\n",
    "for i in range(50):\n",
    "  eights.append(wavfile.read('data/TrainSet/8/'+eight_names[i])[1])\n",
    "for i in range(50):\n",
    "  nines.append(wavfile.read('data/TrainSet/9/'+nine_names[i])[1])\n",
    "# test data\n",
    "for item in zero_names_test:\n",
    "  zeros_test.append(wavfile.read('data/TestSet/0/'+item)[1])\n",
    "for item in one_names_test:\n",
    "  ones_test.append(wavfile.read('data/TestSet/1/'+item)[1])\n",
    "for item in two_names_test:\n",
    "  twos_test.append(wavfile.read('data/TestSet/2/'+item)[1])\n",
    "for item in three_names_test:\n",
    "  threes_test.append(wavfile.read('data/TestSet/3/'+item)[1])\n",
    "for item in four_names_test:\n",
    "  fours_test.append(wavfile.read('data/TestSet/4/'+item)[1])\n",
    "for item in five_names_test:\n",
    "  fives_test.append(wavfile.read('data/TestSet/5/'+item)[1])\n",
    "for item in six_names_test:\n",
    "  sixes_test.append(wavfile.read('data/TestSet/6/'+item)[1])\n",
    "for item in seven_names_test:\n",
    "  sevens_test.append(wavfile.read('data/TestSet/7/'+item)[1])\n",
    "for item in eight_names_test:\n",
    "  eights_test.append(wavfile.read('data/TestSet/8/'+item)[1])\n",
    "for item in nine_names_test:\n",
    "  nines_test.append(wavfile.read('data/TestSet/9/'+item)[1])"
   ]
  },
  {
   "cell_type": "markdown",
   "metadata": {
    "id": "1zg7FvkeYFd5"
   },
   "source": [
    "**PreProcessing**"
   ]
  },
  {
   "cell_type": "markdown",
   "metadata": {
    "id": "2YGJ1l2gYd4_"
   },
   "source": [
    "find longest signal"
   ]
  },
  {
   "cell_type": "code",
   "execution_count": 27,
   "metadata": {
    "id": "W8OtK8ldYHpD"
   },
   "outputs": [],
   "source": [
    "lens_zero, lens_one, lens_two, lens_three, lens_four, lens_five, lens_six, lens_seven, lens_eight, lens_nine = [], [], [], [], [], [], [], [], [], []\n",
    "lens_zero_test, lens_one_test, lens_two_test, lens_three_test, lens_four_test, lens_five_test, lens_six_test, lens_seven_test, lens_eight_test, lens_nine_test = [], [], [], [], [], [], [], [], [], []\n",
    "\n",
    "# train data\n",
    "for item in zeros:\n",
    "  lens_zero.append(len(item))\n",
    "for item in ones:\n",
    "  lens_one.append(len(item))\n",
    "for item in twos:\n",
    "  lens_two.append(len(item))\n",
    "for item in threes:\n",
    "  lens_three.append(len(item))\n",
    "for item in fours:\n",
    "  lens_four.append(len(item))\n",
    "for item in fives:\n",
    "  lens_five.append(len(item))\n",
    "for item in sixes:\n",
    "  lens_six.append(len(item))\n",
    "for item in sevens:\n",
    "  lens_seven.append(len(item))\n",
    "for item in eights:\n",
    "  lens_eight.append(len(item))\n",
    "for item in nines:\n",
    "  lens_nine.append(len(item))\n",
    "# test data\n",
    "for item in zeros_test:\n",
    "  lens_zero_test.append(len(item))\n",
    "for item in ones_test:\n",
    "  lens_one_test.append(len(item))\n",
    "for item in twos_test:\n",
    "  lens_two_test.append(len(item))\n",
    "for item in threes_test:\n",
    "  lens_three_test.append(len(item))\n",
    "for item in fours_test:\n",
    "  lens_four_test.append(len(item))\n",
    "for item in fives_test:\n",
    "  lens_five_test.append(len(item))\n",
    "for item in sixes_test:\n",
    "  lens_six_test.append(len(item))\n",
    "for item in sevens_test:\n",
    "  lens_seven_test.append(len(item))\n",
    "for item in eights_test:\n",
    "  lens_eight_test.append(len(item))\n",
    "for item in nines_test:\n",
    "  lens_nine_test.append(len(item))"
   ]
  },
  {
   "cell_type": "markdown",
   "metadata": {
    "id": "1wklGLnye-e6"
   },
   "source": [
    "align signals using zero padding"
   ]
  },
  {
   "cell_type": "code",
   "execution_count": 30,
   "metadata": {
    "colab": {
     "base_uri": "https://localhost:8080/"
    },
    "id": "llvg4kTrfBkJ",
    "outputId": "c79b68ee-612b-4b92-e424-9b746345518f"
   },
   "outputs": [
    {
     "name": "stdout",
     "output_type": "stream",
     "text": [
      "Zeros were aligned...\n",
      "Ones were aligned...\n",
      "Twos were aligned...\n",
      "Threes were aligned...\n",
      "Fours were aligned...\n",
      "Fives were aligned...\n",
      "Sixes were aligned...\n",
      "Sevens were aligned...\n",
      "Eights were aligned...\n",
      "Nines were aligned.\n",
      "Zeros_test were aligned...\n",
      "Ones_test were aligned...\n",
      "Twos_test were aligned...\n",
      "Threes_test were aligned...\n",
      "Fours_test were aligned...\n",
      "Fives_test were aligned...\n",
      "Sixes_test were aligned...\n",
      "Sevens_test were aligned...\n",
      "Eights_test were aligned...\n",
      "Nines_test were aligned.\n",
      "Complete.\n"
     ]
    }
   ],
   "source": [
    "preprocess = PreProcess.PreProcess()\n",
    "max_len = np.max([np.max(lens_zero), np.max(lens_one), np.max(lens_two), np.max(lens_three), np.max(lens_four), np.max(lens_five),\n",
    "                  np.max(lens_six), np.max(lens_seven), np.max(lens_eight), np.max(lens_nine), np.max(lens_zero_test),\n",
    "                  np.max(lens_one_test),np.max(lens_two_test), np.max(lens_three_test), np.max(lens_four_test),\n",
    "                  np.max(lens_five_test),np.max(lens_six_test), np.max(lens_seven_test),np.max(lens_eight_test),\n",
    "                  np.max(lens_nine_test)])\n",
    "\n",
    "# train data\n",
    "for i in range(len(zeros)):\n",
    "  zeros[i] = preprocess.align_signal(zeros[i], max_len)\n",
    "print('Zeros were aligned...')\n",
    "for i in range(len(ones)):\n",
    "  ones[i] = preprocess.align_signal(ones[i], max_len)\n",
    "print('Ones were aligned...')\n",
    "for i in range(len(twos)):\n",
    "  twos[i] = preprocess.align_signal(twos[i], max_len)\n",
    "print('Twos were aligned...')\n",
    "for i in range(len(threes)):\n",
    "  threes[i] = preprocess.align_signal(threes[i], max_len)\n",
    "print('Threes were aligned...')\n",
    "for i in range(len(fours)):\n",
    "  fours[i] = preprocess.align_signal(fours[i], max_len)\n",
    "print('Fours were aligned...')\n",
    "for i in range(len(fives)):\n",
    "  fives[i] = preprocess.align_signal(fives[i], max_len)\n",
    "print('Fives were aligned...')\n",
    "for i in range(len(sixes)):\n",
    "  sixes[i] = preprocess.align_signal(sixes[i], max_len)\n",
    "print('Sixes were aligned...')\n",
    "for i in range(len(sevens)):\n",
    "  sevens[i] = preprocess.align_signal(sevens[i], max_len)\n",
    "print('Sevens were aligned...')\n",
    "for i in range(len(eights)):\n",
    "  eights[i] = preprocess.align_signal(eights[i], max_len)\n",
    "print('Eights were aligned...')\n",
    "for i in range(len(nines)):\n",
    "  nines[i] = preprocess.align_signal(nines[i], max_len)\n",
    "print('Nines were aligned.')\n",
    "# test data\n",
    "for i in range(len(zeros_test)):\n",
    "  zeros_test[i] = preprocess.align_signal(zeros_test[i], max_len)\n",
    "print('Zeros_test were aligned...')\n",
    "for i in range(len(ones_test)):\n",
    "  ones_test[i] = preprocess.align_signal(ones_test[i], max_len)\n",
    "print('Ones_test were aligned...')\n",
    "for i in range(len(twos_test)):\n",
    "  twos_test[i] = preprocess.align_signal(twos_test[i], max_len)\n",
    "print('Twos_test were aligned...')\n",
    "for i in range(len(threes_test)):\n",
    "  threes_test[i] = preprocess.align_signal(threes_test[i], max_len)\n",
    "print('Threes_test were aligned...')\n",
    "for i in range(len(fours_test)):\n",
    "  fours_test[i] = preprocess.align_signal(fours_test[i], max_len)\n",
    "print('Fours_test were aligned...')\n",
    "for i in range(len(fives_test)):\n",
    "  fives_test[i] = preprocess.align_signal(fives_test[i], max_len)\n",
    "print('Fives_test were aligned...')\n",
    "for i in range(len(sixes_test)):\n",
    "  sixes_test[i] = preprocess.align_signal(sixes_test[i], max_len)\n",
    "print('Sixes_test were aligned...')\n",
    "for i in range(len(sevens_test)):\n",
    "  sevens_test[i] = preprocess.align_signal(sevens_test[i], max_len)\n",
    "print('Sevens_test were aligned...')\n",
    "for i in range(len(eights_test)):\n",
    "  eights_test[i] = preprocess.align_signal(eights_test[i], max_len)\n",
    "print('Eights_test were aligned...')\n",
    "for i in range(len(nines_test)):\n",
    "  nines_test[i] = preprocess.align_signal(nines_test[i], max_len)\n",
    "print('Nines_test were aligned.')\n",
    "print('Complete.')"
   ]
  },
  {
   "cell_type": "markdown",
   "metadata": {
    "id": "1YhKTNTqSV7l"
   },
   "source": [
    "# Part A"
   ]
  },
  {
   "cell_type": "markdown",
   "metadata": {
    "id": "XEIBE8irSQP4"
   },
   "source": [
    "**MFCC Feature Extraction**"
   ]
  },
  {
   "cell_type": "code",
   "execution_count": 31,
   "metadata": {
    "colab": {
     "base_uri": "https://localhost:8080/"
    },
    "id": "Au3QR2adSZ82",
    "outputId": "d41ff5da-5765-4e78-d2ba-39349487dce1"
   },
   "outputs": [
    {
     "name": "stdout",
     "output_type": "stream",
     "text": [
      "mfcc zero were calculated...\n",
      "mfcc one were calculated...\n",
      "mfcc two were calculated...\n",
      "mfcc three were calculated...\n",
      "mfcc four were calculated...\n",
      "mfcc five were calculated...\n",
      "mfcc six were calculated...\n",
      "mfcc seven were calculated...\n",
      "mfcc eight were calculated...\n",
      "mfcc nine were calculated.\n",
      "mfcc zero_test were calculated...\n",
      "mfcc one_test were calculated...\n",
      "mfcc two_test were calculated...\n",
      "mfcc three_test were calculated...\n",
      "mfcc four_test were calculated...\n",
      "mfcc five_test were calculated...\n",
      "mfcc six_test were calculated...\n",
      "mfcc seven_test were calculated...\n",
      "mfcc eight_test were calculated...\n",
      "mfcc nine_test were calculated.\n",
      "Complete.\n"
     ]
    }
   ],
   "source": [
    "mfcc_zero, mfcc_one, mfcc_two, mfcc_three, mfcc_four, mfcc_five, mfcc_six, mfcc_seven, mfcc_eight, mfcc_nine = [], [], [], [], [], [], [], [], [], []\n",
    "mfcc_zero_test, mfcc_one_test, mfcc_two_test, mfcc_three_test, mfcc_four_test, mfcc_five_test, mfcc_six_test, mfcc_seven_test, mfcc_eight_test, mfcc_nine_test = [], [], [], [], [], [], [], [], [], []\n",
    "\n",
    "feature_extractor = FeatureExtractor.FeatureExtractor()\n",
    "# train data\n",
    "for item in zeros:\n",
    "  mfcc_zero.append(feature_extractor.get_mfcc(item))\n",
    "print('mfcc zero were calculated...')\n",
    "for item in ones:\n",
    "  mfcc_one.append(feature_extractor.get_mfcc(item))\n",
    "print('mfcc one were calculated...')\n",
    "for item in twos:\n",
    "  mfcc_two.append(feature_extractor.get_mfcc(item))\n",
    "print('mfcc two were calculated...')\n",
    "for item in threes:\n",
    "  mfcc_three.append(feature_extractor.get_mfcc(item))\n",
    "print('mfcc three were calculated...')\n",
    "for item in fours:\n",
    "  mfcc_four.append(feature_extractor.get_mfcc(item))\n",
    "print('mfcc four were calculated...')\n",
    "for item in fives:\n",
    "  mfcc_five.append(feature_extractor.get_mfcc(item))\n",
    "print('mfcc five were calculated...')\n",
    "for item in sixes:\n",
    "  mfcc_six.append(feature_extractor.get_mfcc(item))\n",
    "print('mfcc six were calculated...')\n",
    "for item in sevens:\n",
    "  mfcc_seven.append(feature_extractor.get_mfcc(item))\n",
    "print('mfcc seven were calculated...')\n",
    "for item in eights:\n",
    "  mfcc_eight.append(feature_extractor.get_mfcc(item))\n",
    "print('mfcc eight were calculated...')\n",
    "for item in nines:\n",
    "  mfcc_nine.append(feature_extractor.get_mfcc(item))\n",
    "print('mfcc nine were calculated.')\n",
    "# test data\n",
    "for item in zeros_test:\n",
    "  mfcc_zero_test.append(feature_extractor.get_mfcc(item))\n",
    "print('mfcc zero_test were calculated...')\n",
    "for item in ones_test:\n",
    "  mfcc_one_test.append(feature_extractor.get_mfcc(item))\n",
    "print('mfcc one_test were calculated...')\n",
    "for item in twos_test:\n",
    "  mfcc_two_test.append(feature_extractor.get_mfcc(item))\n",
    "print('mfcc two_test were calculated...')\n",
    "for item in threes_test:\n",
    "  mfcc_three_test.append(feature_extractor.get_mfcc(item))\n",
    "print('mfcc three_test were calculated...')\n",
    "for item in fours_test:\n",
    "  mfcc_four_test.append(feature_extractor.get_mfcc(item))\n",
    "print('mfcc four_test were calculated...')\n",
    "for item in fives_test:\n",
    "  mfcc_five_test.append(feature_extractor.get_mfcc(item))\n",
    "print('mfcc five_test were calculated...')\n",
    "for item in sixes_test:\n",
    "  mfcc_six_test.append(feature_extractor.get_mfcc(item))\n",
    "print('mfcc six_test were calculated...')\n",
    "for item in sevens_test:\n",
    "  mfcc_seven_test.append(feature_extractor.get_mfcc(item))\n",
    "print('mfcc seven_test were calculated...')\n",
    "for item in eights_test:\n",
    "  mfcc_eight_test.append(feature_extractor.get_mfcc(item))\n",
    "print('mfcc eight_test were calculated...')\n",
    "for item in nines_test:\n",
    "  mfcc_nine_test.append(feature_extractor.get_mfcc(item))\n",
    "print('mfcc nine_test were calculated.')\n",
    "print('Complete.')"
   ]
  },
  {
   "cell_type": "markdown",
   "metadata": {
    "id": "ELUF5TY3Fc_l"
   },
   "source": [
    "calculate euqlidean distance matrix for each number in test data"
   ]
  },
  {
   "cell_type": "code",
   "execution_count": 32,
   "metadata": {
    "id": "avAZ_g80FjX3"
   },
   "outputs": [],
   "source": [
    "distance = Distance.Distance()\n",
    "\n",
    "# distance matrix of number 'zero' test data\n",
    "dist_matt_zero = distance.get_distance_matrix(np.shape(zeros_test)[0], mfcc_zero_test, mfcc_zero, mfcc_one, mfcc_two, mfcc_three, \n",
    "                                              mfcc_four, mfcc_five, mfcc_six, mfcc_seven, mfcc_eight, mfcc_nine)\n",
    "# distance matrix of number 'one' test data\n",
    "dist_matt_one = distance.get_distance_matrix(np.shape(ones_test)[0], mfcc_one_test, mfcc_zero, mfcc_one, mfcc_two, mfcc_three, \n",
    "                                             mfcc_four, mfcc_five, mfcc_six, mfcc_seven, mfcc_eight, mfcc_nine)\n",
    "# distance matrix of number 'two' test data\n",
    "dist_matt_two = distance.get_distance_matrix(np.shape(twos_test)[0], mfcc_two_test, mfcc_zero, mfcc_one, mfcc_two, mfcc_three, \n",
    "                                             mfcc_four, mfcc_five, mfcc_six, mfcc_seven, mfcc_eight, mfcc_nine)\n",
    "# distance matrix of number 'three' test data\n",
    "dist_matt_three = distance.get_distance_matrix(np.shape(threes_test)[0], mfcc_three_test, mfcc_zero, mfcc_one, mfcc_two, mfcc_three, \n",
    "                                               mfcc_four, mfcc_five, mfcc_six, mfcc_seven, mfcc_eight, mfcc_nine)\n",
    "# distance matrix of number 'four' test data\n",
    "dist_matt_four = distance.get_distance_matrix(np.shape(fours_test)[0], mfcc_four_test, mfcc_zero, mfcc_one, mfcc_two, mfcc_three, \n",
    "                                              mfcc_four, mfcc_five, mfcc_six, mfcc_seven, mfcc_eight, mfcc_nine)\n",
    "# distance matrix of number 'five' test data\n",
    "dist_matt_five = distance.get_distance_matrix(np.shape(fives_test)[0], mfcc_five_test, mfcc_zero, mfcc_one, mfcc_two, mfcc_three, \n",
    "                                              mfcc_four, mfcc_five, mfcc_six, mfcc_seven, mfcc_eight, mfcc_nine)\n",
    "# distance matrix of number 'six' test data\n",
    "dist_matt_six = distance.get_distance_matrix(np.shape(sixes_test)[0], mfcc_six_test, mfcc_zero, mfcc_one, mfcc_two, mfcc_three, \n",
    "                                             mfcc_four, mfcc_five, mfcc_six, mfcc_seven, mfcc_eight, mfcc_nine)\n",
    "# distance matrix of number 'seven' test data\n",
    "dist_matt_seven = distance.get_distance_matrix(np.shape(sevens_test)[0], mfcc_seven_test, mfcc_zero, mfcc_one, mfcc_two, mfcc_three, \n",
    "                                               mfcc_four, mfcc_five, mfcc_six, mfcc_seven, mfcc_eight, mfcc_nine)\n",
    "# distance matrix of number 'eight' test data\n",
    "dist_matt_eight = distance.get_distance_matrix(np.shape(eights_test)[0], mfcc_eight_test, mfcc_zero, mfcc_one, mfcc_two, mfcc_three, \n",
    "                                               mfcc_four, mfcc_five, mfcc_six, mfcc_seven, mfcc_eight, mfcc_nine)\n",
    "# distance matrix of number 'nine' test data\n",
    "dist_matt_nine = distance.get_distance_matrix(np.shape(nines_test)[0], mfcc_nine_test, mfcc_zero, mfcc_one, mfcc_two, mfcc_three, \n",
    "                                              mfcc_four, mfcc_five, mfcc_six, mfcc_seven, mfcc_eight, mfcc_nine)"
   ]
  },
  {
   "cell_type": "markdown",
   "metadata": {
    "id": "Ua3CyEoZ14dj"
   },
   "source": [
    "KNN algorithm"
   ]
  },
  {
   "cell_type": "code",
   "execution_count": 33,
   "metadata": {
    "id": "lCcunqixxQOQ"
   },
   "outputs": [],
   "source": [
    "knn = KNN.KNN()\n",
    "# knn on zeros\n",
    "knn_zero_11 = knn.fit(dist_matt_zero, 11)\n",
    "knn_zero_15 = knn.fit(dist_matt_zero, 15)\n",
    "knn_zero_20 = knn.fit(dist_matt_zero, 20)\n",
    "# knn on ones\n",
    "knn_one_11 = knn.fit(dist_matt_one, 11)\n",
    "knn_one_15 = knn.fit(dist_matt_one, 15)\n",
    "knn_one_20 = knn.fit(dist_matt_one, 20)\n",
    "# knn on twos\n",
    "knn_two_11 = knn.fit(dist_matt_two, 11)\n",
    "knn_two_15 = knn.fit(dist_matt_two, 15)\n",
    "knn_two_20 = knn.fit(dist_matt_two, 20)\n",
    "# knn on threes\n",
    "knn_three_11 = knn.fit(dist_matt_three, 11)\n",
    "knn_three_15 = knn.fit(dist_matt_three, 15)\n",
    "knn_three_20 = knn.fit(dist_matt_three, 20)\n",
    "# knn on fours\n",
    "knn_four_11 = knn.fit(dist_matt_four, 11)\n",
    "knn_four_15 = knn.fit(dist_matt_four, 15)\n",
    "knn_four_20 = knn.fit(dist_matt_four, 20)\n",
    "# knn on fives\n",
    "knn_five_11 = knn.fit(dist_matt_five, 11)\n",
    "knn_five_15 = knn.fit(dist_matt_five, 15)\n",
    "knn_five_20 = knn.fit(dist_matt_five, 20)\n",
    "# knn on sixes\n",
    "knn_six_11 = knn.fit(dist_matt_six, 11)\n",
    "knn_six_15 = knn.fit(dist_matt_six, 15)\n",
    "knn_six_20 = knn.fit(dist_matt_six, 20)\n",
    "# knn on sevens\n",
    "knn_seven_11 = knn.fit(dist_matt_seven, 11)\n",
    "knn_seven_15 = knn.fit(dist_matt_seven, 15)\n",
    "knn_seven_20 = knn.fit(dist_matt_seven, 20)\n",
    "# knn on eights\n",
    "knn_eight_11 = knn.fit(dist_matt_eight, 11)\n",
    "knn_eight_15 = knn.fit(dist_matt_eight, 15)\n",
    "knn_eight_20 = knn.fit(dist_matt_eight, 20)\n",
    "# knn on nines\n",
    "knn_nine_11 = knn.fit(dist_matt_nine, 11)\n",
    "knn_nine_15 = knn.fit(dist_matt_nine, 15)\n",
    "knn_nine_20 = knn.fit(dist_matt_nine, 20)"
   ]
  },
  {
   "cell_type": "markdown",
   "metadata": {
    "id": "0ZVQxQcg2NkS"
   },
   "source": [
    "Accuracy"
   ]
  },
  {
   "cell_type": "code",
   "execution_count": 34,
   "metadata": {
    "colab": {
     "base_uri": "https://localhost:8080/"
    },
    "id": "jLTHdBKQ2Q0J",
    "outputId": "9109406e-5544-4b97-9f06-13da765d3ee4"
   },
   "outputs": [
    {
     "name": "stdout",
     "output_type": "stream",
     "text": [
      "Accuracy, zero,  K=11:  0.5384615384615384\n",
      "Accuracy, zero,  K=15:  0.5384615384615384\n",
      "Accuracy, zero,  K=20:  0.5\n",
      "==================================================\n",
      "Accuracy, one, K=11:  0.23333333333333334\n",
      "Accuracy, one, K=15:  0.23333333333333334\n",
      "Accuracy, one, K=20:  0.2\n",
      "==================================================\n",
      "Accuracy, two, K=11:  0.7333333333333333\n",
      "Accuracy, two, K=15:  0.7\n",
      "Accuracy, two, K=20:  0.7\n",
      "==================================================\n",
      "Accuracy, three, K=11:  0.43333333333333335\n",
      "Accuracy, three, K=15:  0.43333333333333335\n",
      "Accuracy, three, K=20:  0.4\n",
      "==================================================\n",
      "Accuracy, four, K=11:  0.6666666666666666\n",
      "Accuracy, four, K=15:  0.6666666666666666\n",
      "Accuracy, four, K=20:  0.5666666666666667\n",
      "==================================================\n",
      "Accuracy, five, K=11:  0.4\n",
      "Accuracy, five, K=15:  0.4\n",
      "Accuracy, five, K=20:  0.36666666666666664\n",
      "==================================================\n",
      "Accuracy, six, K=11:  0.9\n",
      "Accuracy, six, K=15:  0.8666666666666667\n",
      "Accuracy, six, K=20:  0.8333333333333334\n",
      "==================================================\n",
      "Accuracy, seven, K=11:  0.5666666666666667\n",
      "Accuracy, seven, K=15:  0.5333333333333333\n",
      "Accuracy, seven, K=20:  0.5333333333333333\n",
      "==================================================\n",
      "Accuracy, eight, K=11:  0.4\n",
      "Accuracy, eight, K=15:  0.3\n",
      "Accuracy, eight, K=20:  0.26666666666666666\n",
      "==================================================\n",
      "Accuracy, nine, K=11:  0.3333333333333333\n",
      "Accuracy, nine, K=15:  0.4\n",
      "Accuracy, nine, K=20:  0.4\n"
     ]
    }
   ],
   "source": [
    "# accuracy for zeros\n",
    "acc_zero_11 = knn_zero_11.count(0) / len(knn_zero_11)\n",
    "acc_zero_15 = knn_zero_15.count(0) / len(knn_zero_15)\n",
    "acc_zero_20 = knn_zero_20.count(0) / len(knn_zero_20)\n",
    "print('Accuracy, zero,  K=11: ', acc_zero_11)\n",
    "print('Accuracy, zero,  K=15: ', acc_zero_15)\n",
    "print('Accuracy, zero,  K=20: ', acc_zero_20)\n",
    "print('==================================================')\n",
    "# accuracy for ones\n",
    "acc_one_11 = knn_one_11.count(1) / len(knn_one_11)\n",
    "acc_one_15 = knn_one_15.count(1) / len(knn_one_15)\n",
    "acc_one_20 = knn_one_20.count(1) / len(knn_one_20)\n",
    "print('Accuracy, one, K=11: ', acc_one_11)\n",
    "print('Accuracy, one, K=15: ', acc_one_15)\n",
    "print('Accuracy, one, K=20: ', acc_one_20)\n",
    "print('==================================================')\n",
    "# accuracy for twos\n",
    "acc_two_11 = knn_two_11.count(2) / len(knn_two_11)\n",
    "acc_two_15 = knn_two_15.count(2) / len(knn_two_15)\n",
    "acc_two_20 = knn_two_20.count(2) / len(knn_two_20)\n",
    "print('Accuracy, two, K=11: ', acc_two_11)\n",
    "print('Accuracy, two, K=15: ', acc_two_15)\n",
    "print('Accuracy, two, K=20: ', acc_two_20)\n",
    "print('==================================================')\n",
    "# accuracy for threes\n",
    "acc_three_11 = knn_three_11.count(3) / len(knn_three_11)\n",
    "acc_three_15 = knn_three_15.count(3) / len(knn_three_15)\n",
    "acc_three_20 = knn_three_20.count(3) / len(knn_three_20)\n",
    "print('Accuracy, three, K=11: ', acc_three_11)\n",
    "print('Accuracy, three, K=15: ', acc_three_15)\n",
    "print('Accuracy, three, K=20: ', acc_three_20)\n",
    "print('==================================================')\n",
    "# accuracy for fours\n",
    "acc_four_11 = knn_four_11.count(4) / len(knn_four_11)\n",
    "acc_four_15 = knn_four_15.count(4) / len(knn_four_15)\n",
    "acc_four_20 = knn_four_20.count(4) / len(knn_four_20)\n",
    "print('Accuracy, four, K=11: ', acc_four_11)\n",
    "print('Accuracy, four, K=15: ', acc_four_15)\n",
    "print('Accuracy, four, K=20: ', acc_four_20)\n",
    "print('==================================================')\n",
    "# accuracy for fives\n",
    "acc_five_11 = knn_five_11.count(5) / len(knn_five_11)\n",
    "acc_five_15 = knn_five_15.count(5) / len(knn_five_15)\n",
    "acc_five_20 = knn_five_20.count(5) / len(knn_five_20)\n",
    "print('Accuracy, five, K=11: ', acc_five_11)\n",
    "print('Accuracy, five, K=15: ', acc_five_15)\n",
    "print('Accuracy, five, K=20: ', acc_five_20)\n",
    "print('==================================================')\n",
    "# accuracy for sixes\n",
    "acc_six_11 = knn_six_11.count(6) / len(knn_six_11)\n",
    "acc_six_15 = knn_six_15.count(6) / len(knn_six_15)\n",
    "acc_six_20 = knn_six_20.count(6) / len(knn_six_20)\n",
    "print('Accuracy, six, K=11: ', acc_six_11)\n",
    "print('Accuracy, six, K=15: ', acc_six_15)\n",
    "print('Accuracy, six, K=20: ', acc_six_20)\n",
    "print('==================================================')\n",
    "# accuracy for sevens\n",
    "acc_seven_11 = knn_seven_11.count(7) / len(knn_seven_11)\n",
    "acc_seven_15 = knn_seven_15.count(7) / len(knn_seven_15)\n",
    "acc_seven_20 = knn_seven_20.count(7) / len(knn_seven_20)\n",
    "print('Accuracy, seven, K=11: ', acc_seven_11)\n",
    "print('Accuracy, seven, K=15: ', acc_seven_15)\n",
    "print('Accuracy, seven, K=20: ', acc_seven_20)\n",
    "print('==================================================')\n",
    "# accuracy for eights\n",
    "acc_eight_11 = knn_eight_11.count(8) / len(knn_eight_11)\n",
    "acc_eight_15 = knn_eight_15.count(8) / len(knn_eight_15)\n",
    "acc_eight_20 = knn_eight_20.count(8) / len(knn_eight_20)\n",
    "print('Accuracy, eight, K=11: ', acc_eight_11)\n",
    "print('Accuracy, eight, K=15: ', acc_eight_15)\n",
    "print('Accuracy, eight, K=20: ', acc_eight_20)\n",
    "print('==================================================')\n",
    "# accuracy for nines\n",
    "acc_nine_11 = knn_nine_11.count(9) / len(knn_nine_11)\n",
    "acc_nine_15 = knn_nine_15.count(9) / len(knn_nine_15)\n",
    "acc_nine_20 = knn_nine_20.count(9) / len(knn_nine_20)\n",
    "print('Accuracy, nine, K=11: ', acc_nine_11)\n",
    "print('Accuracy, nine, K=15: ', acc_nine_15)\n",
    "print('Accuracy, nine, K=20: ', acc_nine_20)"
   ]
  },
  {
   "cell_type": "markdown",
   "metadata": {
    "id": "H846yWB3ToCj"
   },
   "source": [
    "average accuracy of model"
   ]
  },
  {
   "cell_type": "code",
   "execution_count": 35,
   "metadata": {
    "colab": {
     "base_uri": "https://localhost:8080/"
    },
    "id": "DFSr3It1TrIG",
    "outputId": "3186a71b-14bc-457c-c9fc-9104e88fb029"
   },
   "outputs": [
    {
     "name": "stdout",
     "output_type": "stream",
     "text": [
      "Accuracy, K=11:  0.5205128205128206\n",
      "Accuracy, K=15:  0.5071794871794872\n",
      "Accuracy, K=11:  0.4766666666666667\n"
     ]
    }
   ],
   "source": [
    "# K = 11\n",
    "avg_acc_11 = np.mean([acc_zero_11, acc_one_11, acc_two_11, acc_three_11, acc_four_11, acc_five_11, acc_six_11,\n",
    "                      acc_seven_11, acc_eight_11, acc_nine_11])\n",
    "print('Accuracy, K=11: ', avg_acc_11)\n",
    "# K = 15\n",
    "avg_acc_15 = np.mean([acc_zero_15, acc_one_15, acc_two_15, acc_three_15, acc_four_15, acc_five_15, acc_six_15,\n",
    "                      acc_seven_15, acc_eight_15, acc_nine_15])\n",
    "print('Accuracy, K=15: ', avg_acc_15)\n",
    "# K = 20\n",
    "avg_acc_20 = np.mean([acc_zero_20, acc_one_20, acc_two_20, acc_three_20, acc_four_20, acc_five_20, acc_six_20,\n",
    "                      acc_seven_20, acc_eight_20, acc_nine_20])\n",
    "print('Accuracy, K=11: ', avg_acc_20)"
   ]
  },
  {
   "cell_type": "markdown",
   "metadata": {
    "id": "sbPMqF7_Hwt1"
   },
   "source": [
    "# Part B"
   ]
  },
  {
   "cell_type": "markdown",
   "metadata": {
    "id": "5xdrCv3mHyxK"
   },
   "source": [
    "**LPC features**"
   ]
  },
  {
   "cell_type": "code",
   "execution_count": 36,
   "metadata": {
    "colab": {
     "base_uri": "https://localhost:8080/"
    },
    "id": "IJ9NIMNPH0tL",
    "outputId": "89bd78f2-bfa3-43f2-d281-5474ec21877e"
   },
   "outputs": [
    {
     "name": "stdout",
     "output_type": "stream",
     "text": [
      "lpc zero were calculated...\n",
      "lpc one were calculated...\n",
      "lpc two were calculated...\n",
      "lpc three were calculated...\n",
      "lpc four were calculated...\n",
      "lpc five were calculated...\n",
      "lpc six were calculated...\n",
      "lpc seven were calculated...\n",
      "lpc eight were calculated...\n",
      "lpc nine were calculated.\n",
      "lpc zero_test were calculated...\n",
      "lpc one_test were calculated...\n",
      "lpc two_test were calculated...\n",
      "lpc three_test were calculated...\n",
      "lpc four_test were calculated...\n",
      "lpc five_test were calculated...\n",
      "lpc six_test were calculated...\n",
      "lpc seven_test were calculated...\n",
      "lpc eight_test were calculated...\n",
      "lpc nine_test were calculated.\n",
      "Complete.\n"
     ]
    }
   ],
   "source": [
    "lpc_zero, lpc_one, lpc_two, lpc_three, lpc_four, lpc_five, lpc_six, lpc_seven, lpc_eight, lpc_nine = [], [], [], [], [], [], [], [], [], []\n",
    "lpc_zero_test, lpc_one_test, lpc_two_test, lpc_three_test, lpc_four_test, lpc_five_test, lpc_six_test, lpc_seven_test, lpc_eight_test, lpc_nine_test = [], [], [], [], [], [], [], [], [], []\n",
    "\n",
    "feature_extractor = FeatureExtractor.FeatureExtractor()\n",
    "# train data\n",
    "for item in zeros:\n",
    "  lpc_zero.append(feature_extractor.get_lpc(item))\n",
    "print('lpc zero were calculated...')\n",
    "for item in ones:\n",
    "  lpc_one.append(feature_extractor.get_lpc(item))\n",
    "print('lpc one were calculated...')\n",
    "for item in twos:\n",
    "  lpc_two.append(feature_extractor.get_lpc(item))\n",
    "print('lpc two were calculated...')\n",
    "for item in threes:\n",
    "  lpc_three.append(feature_extractor.get_lpc(item))\n",
    "print('lpc three were calculated...')\n",
    "for item in fours:\n",
    "  lpc_four.append(feature_extractor.get_lpc(item))\n",
    "print('lpc four were calculated...')\n",
    "for item in fives:\n",
    "  lpc_five.append(feature_extractor.get_lpc(item))\n",
    "print('lpc five were calculated...')\n",
    "for item in sixes:\n",
    "  lpc_six.append(feature_extractor.get_lpc(item))\n",
    "print('lpc six were calculated...')\n",
    "for item in sevens:\n",
    "  lpc_seven.append(feature_extractor.get_lpc(item))\n",
    "print('lpc seven were calculated...')\n",
    "for item in eights:\n",
    "  lpc_eight.append(feature_extractor.get_lpc(item))\n",
    "print('lpc eight were calculated...')\n",
    "for item in nines:\n",
    "  lpc_nine.append(feature_extractor.get_lpc(item))\n",
    "print('lpc nine were calculated.')\n",
    "# test data\n",
    "for item in zeros_test:\n",
    "  lpc_zero_test.append(feature_extractor.get_lpc(item))\n",
    "print('lpc zero_test were calculated...')\n",
    "for item in ones_test:\n",
    "  lpc_one_test.append(feature_extractor.get_lpc(item))\n",
    "print('lpc one_test were calculated...')\n",
    "for item in twos_test:\n",
    "  lpc_two_test.append(feature_extractor.get_lpc(item))\n",
    "print('lpc two_test were calculated...')\n",
    "for item in threes_test:\n",
    "  lpc_three_test.append(feature_extractor.get_lpc(item))\n",
    "print('lpc three_test were calculated...')\n",
    "for item in fours_test:\n",
    "  lpc_four_test.append(feature_extractor.get_lpc(item))\n",
    "print('lpc four_test were calculated...')\n",
    "for item in fives_test:\n",
    "  lpc_five_test.append(feature_extractor.get_lpc(item))\n",
    "print('lpc five_test were calculated...')\n",
    "for item in sixes_test:\n",
    "  lpc_six_test.append(feature_extractor.get_lpc(item))\n",
    "print('lpc six_test were calculated...')\n",
    "for item in sevens_test:\n",
    "  lpc_seven_test.append(feature_extractor.get_lpc(item))\n",
    "print('lpc seven_test were calculated...')\n",
    "for item in eights_test:\n",
    "  lpc_eight_test.append(feature_extractor.get_lpc(item))\n",
    "print('lpc eight_test were calculated...')\n",
    "for item in nines_test:\n",
    "  lpc_nine_test.append(feature_extractor.get_lpc(item))\n",
    "print('lpc nine_test were calculated.')\n",
    "print('Complete.')"
   ]
  },
  {
   "cell_type": "markdown",
   "metadata": {
    "id": "3dcKBT4JCm0s"
   },
   "source": [
    "distance matrix of LPCs"
   ]
  },
  {
   "cell_type": "code",
   "execution_count": 37,
   "metadata": {
    "id": "zXndpjebCpxr"
   },
   "outputs": [],
   "source": [
    "distance = Distance.Distance()\n",
    "\n",
    "# distance matrix of number 'zero' test data\n",
    "dist_matt_zero = distance.get_distance_matrix_2(np.shape(zeros_test)[0], lpc_zero_test, lpc_zero, lpc_one, lpc_two, \n",
    "                                                lpc_three, lpc_four, lpc_five, lpc_six, lpc_seven, lpc_eight, lpc_nine)\n",
    "# distance matrix of number 'one' test data\n",
    "dist_matt_one = distance.get_distance_matrix_2(np.shape(ones_test)[0], lpc_one_test, lpc_zero, lpc_one, lpc_two, lpc_three, \n",
    "                                               lpc_four, lpc_five, lpc_six, lpc_seven, lpc_eight, lpc_nine)\n",
    "# distance matrix of number 'two' test data\n",
    "dist_matt_two = distance.get_distance_matrix_2(np.shape(twos_test)[0], lpc_two_test, lpc_zero, lpc_one, lpc_two, lpc_three, \n",
    "                                               lpc_four, lpc_five, lpc_six, lpc_seven, lpc_eight, lpc_nine)\n",
    "# distance matrix of number 'three' test data\n",
    "dist_matt_three = distance.get_distance_matrix_2(np.shape(threes_test)[0], lpc_three_test, lpc_zero, lpc_one, lpc_two, lpc_three, \n",
    "                                                 lpc_four, lpc_five, lpc_six, lpc_seven, lpc_eight, lpc_nine)\n",
    "# distance matrix of number 'four' test data\n",
    "dist_matt_four = distance.get_distance_matrix_2(np.shape(fours_test)[0], lpc_four_test, lpc_zero, lpc_one, lpc_two, \n",
    "                                                lpc_three, lpc_four, lpc_five, lpc_six, lpc_seven, lpc_eight, lpc_nine)\n",
    "# distance matrix of number 'five' test data\n",
    "dist_matt_five = distance.get_distance_matrix_2(np.shape(fives_test)[0], lpc_five_test, lpc_zero, lpc_one, lpc_two, \n",
    "                                                lpc_three, lpc_four, lpc_five, lpc_six, lpc_seven, lpc_eight, lpc_nine)\n",
    "# distance matrix of number 'six' test data\n",
    "dist_matt_six = distance.get_distance_matrix_2(np.shape(sixes_test)[0], lpc_six_test, lpc_zero, lpc_one, lpc_two, \n",
    "                                               lpc_three, lpc_four, lpc_five, lpc_six, lpc_seven, lpc_eight, lpc_nine)\n",
    "# distance matrix of number 'seven' test data\n",
    "dist_matt_seven = distance.get_distance_matrix_2(np.shape(sevens_test)[0], lpc_seven_test, lpc_zero, lpc_one, lpc_two, \n",
    "                                                 lpc_three, lpc_four, lpc_five, lpc_six, lpc_seven, lpc_eight, lpc_nine)\n",
    "# distance matrix of number 'eight' test data\n",
    "dist_matt_eight = distance.get_distance_matrix_2(np.shape(eights_test)[0], lpc_eight_test, lpc_zero, lpc_one, lpc_two, \n",
    "                                                 lpc_three, lpc_four, lpc_five, lpc_six, lpc_seven, lpc_eight, lpc_nine)\n",
    "# distance matrix of number 'nine' test data\n",
    "dist_matt_nine = distance.get_distance_matrix_2(np.shape(nines_test)[0], lpc_nine_test, lpc_zero, lpc_one, lpc_two, \n",
    "                                                lpc_three, lpc_four, lpc_five, lpc_six, lpc_seven, lpc_eight, lpc_nine)"
   ]
  },
  {
   "cell_type": "markdown",
   "metadata": {
    "id": "kmqpVSl9GNJY"
   },
   "source": [
    "KNN algorithm"
   ]
  },
  {
   "cell_type": "code",
   "execution_count": 38,
   "metadata": {
    "id": "lU_-8lbRGO7-"
   },
   "outputs": [],
   "source": [
    "knn = KNN.KNN()\n",
    "# knn on zeros\n",
    "knn_zero_11 = knn.fit(dist_matt_zero, 11)\n",
    "knn_zero_15 = knn.fit(dist_matt_zero, 15)\n",
    "knn_zero_20 = knn.fit(dist_matt_zero, 20)\n",
    "# knn on ones\n",
    "knn_one_11 = knn.fit(dist_matt_one, 11)\n",
    "knn_one_15 = knn.fit(dist_matt_one, 15)\n",
    "knn_one_20 = knn.fit(dist_matt_one, 20)\n",
    "# knn on twos\n",
    "knn_two_11 = knn.fit(dist_matt_two, 11)\n",
    "knn_two_15 = knn.fit(dist_matt_two, 15)\n",
    "knn_two_20 = knn.fit(dist_matt_two, 20)\n",
    "# knn on threes\n",
    "knn_three_11 = knn.fit(dist_matt_three, 11)\n",
    "knn_three_15 = knn.fit(dist_matt_three, 15)\n",
    "knn_three_20 = knn.fit(dist_matt_three, 20)\n",
    "# knn on fours\n",
    "knn_four_11 = knn.fit(dist_matt_four, 11)\n",
    "knn_four_15 = knn.fit(dist_matt_four, 15)\n",
    "knn_four_20 = knn.fit(dist_matt_four, 20)\n",
    "# knn on fives\n",
    "knn_five_11 = knn.fit(dist_matt_five, 11)\n",
    "knn_five_15 = knn.fit(dist_matt_five, 15)\n",
    "knn_five_20 = knn.fit(dist_matt_five, 20)\n",
    "# knn on sixes\n",
    "knn_six_11 = knn.fit(dist_matt_six, 11)\n",
    "knn_six_15 = knn.fit(dist_matt_six, 15)\n",
    "knn_six_20 = knn.fit(dist_matt_six, 20)\n",
    "# knn on sevens\n",
    "knn_seven_11 = knn.fit(dist_matt_seven, 11)\n",
    "knn_seven_15 = knn.fit(dist_matt_seven, 15)\n",
    "knn_seven_20 = knn.fit(dist_matt_seven, 20)\n",
    "# knn on eights\n",
    "knn_eight_11 = knn.fit(dist_matt_eight, 11)\n",
    "knn_eight_15 = knn.fit(dist_matt_eight, 15)\n",
    "knn_eight_20 = knn.fit(dist_matt_eight, 20)\n",
    "# knn on nines\n",
    "knn_nine_11 = knn.fit(dist_matt_nine, 11)\n",
    "knn_nine_15 = knn.fit(dist_matt_nine, 15)\n",
    "knn_nine_20 = knn.fit(dist_matt_nine, 20)"
   ]
  },
  {
   "cell_type": "markdown",
   "metadata": {
    "id": "ucCrn618GWuh"
   },
   "source": [
    "accuracy"
   ]
  },
  {
   "cell_type": "code",
   "execution_count": 39,
   "metadata": {
    "colab": {
     "base_uri": "https://localhost:8080/"
    },
    "id": "R0nkqge-GYB6",
    "outputId": "7e0223a3-c70f-48be-919a-a316628aba56"
   },
   "outputs": [
    {
     "name": "stdout",
     "output_type": "stream",
     "text": [
      "Accuracy, zero,  K=11:  0.07692307692307693\n",
      "Accuracy, zero,  K=15:  0.15384615384615385\n",
      "Accuracy, zero,  K=20:  0.15384615384615385\n",
      "==================================================\n",
      "Accuracy, one, K=11:  0.4\n",
      "Accuracy, one, K=15:  0.3\n",
      "Accuracy, one, K=20:  0.3333333333333333\n",
      "==================================================\n",
      "Accuracy, two, K=11:  0.4\n",
      "Accuracy, two, K=15:  0.43333333333333335\n",
      "Accuracy, two, K=20:  0.4666666666666667\n",
      "==================================================\n",
      "Accuracy, three, K=11:  0.4666666666666667\n",
      "Accuracy, three, K=15:  0.5\n",
      "Accuracy, three, K=20:  0.36666666666666664\n",
      "==================================================\n",
      "Accuracy, four, K=11:  0.36666666666666664\n",
      "Accuracy, four, K=15:  0.3333333333333333\n",
      "Accuracy, four, K=20:  0.4\n",
      "==================================================\n",
      "Accuracy, five, K=11:  0.36666666666666664\n",
      "Accuracy, five, K=15:  0.3\n",
      "Accuracy, five, K=20:  0.3333333333333333\n",
      "==================================================\n",
      "Accuracy, six, K=11:  0.23333333333333334\n",
      "Accuracy, six, K=15:  0.2\n",
      "Accuracy, six, K=20:  0.13333333333333333\n",
      "==================================================\n",
      "Accuracy, seven, K=11:  0.3333333333333333\n",
      "Accuracy, seven, K=15:  0.3333333333333333\n",
      "Accuracy, seven, K=20:  0.26666666666666666\n",
      "==================================================\n",
      "Accuracy, eight, K=11:  0.5\n",
      "Accuracy, eight, K=15:  0.5333333333333333\n",
      "Accuracy, eight, K=20:  0.5333333333333333\n",
      "==================================================\n",
      "Accuracy, nine, K=11:  0.23333333333333334\n",
      "Accuracy, nine, K=15:  0.13333333333333333\n",
      "Accuracy, nine, K=20:  0.2\n"
     ]
    }
   ],
   "source": [
    "# accuracy for zeros\n",
    "acc_zero_11 = knn_zero_11.count(0) / len(knn_zero_11)\n",
    "acc_zero_15 = knn_zero_15.count(0) / len(knn_zero_15)\n",
    "acc_zero_20 = knn_zero_20.count(0) / len(knn_zero_20)\n",
    "print('Accuracy, zero,  K=11: ', acc_zero_11)\n",
    "print('Accuracy, zero,  K=15: ', acc_zero_15)\n",
    "print('Accuracy, zero,  K=20: ', acc_zero_20)\n",
    "print('==================================================')\n",
    "# accuracy for ones\n",
    "acc_one_11 = knn_one_11.count(1) / len(knn_one_11)\n",
    "acc_one_15 = knn_one_15.count(1) / len(knn_one_15)\n",
    "acc_one_20 = knn_one_20.count(1) / len(knn_one_20)\n",
    "print('Accuracy, one, K=11: ', acc_one_11)\n",
    "print('Accuracy, one, K=15: ', acc_one_15)\n",
    "print('Accuracy, one, K=20: ', acc_one_20)\n",
    "print('==================================================')\n",
    "# accuracy for twos\n",
    "acc_two_11 = knn_two_11.count(2) / len(knn_two_11)\n",
    "acc_two_15 = knn_two_15.count(2) / len(knn_two_15)\n",
    "acc_two_20 = knn_two_20.count(2) / len(knn_two_20)\n",
    "print('Accuracy, two, K=11: ', acc_two_11)\n",
    "print('Accuracy, two, K=15: ', acc_two_15)\n",
    "print('Accuracy, two, K=20: ', acc_two_20)\n",
    "print('==================================================')\n",
    "# accuracy for threes\n",
    "acc_three_11 = knn_three_11.count(3) / len(knn_three_11)\n",
    "acc_three_15 = knn_three_15.count(3) / len(knn_three_15)\n",
    "acc_three_20 = knn_three_20.count(3) / len(knn_three_20)\n",
    "print('Accuracy, three, K=11: ', acc_three_11)\n",
    "print('Accuracy, three, K=15: ', acc_three_15)\n",
    "print('Accuracy, three, K=20: ', acc_three_20)\n",
    "print('==================================================')\n",
    "# accuracy for fours\n",
    "acc_four_11 = knn_four_11.count(4) / len(knn_four_11)\n",
    "acc_four_15 = knn_four_15.count(4) / len(knn_four_15)\n",
    "acc_four_20 = knn_four_20.count(4) / len(knn_four_20)\n",
    "print('Accuracy, four, K=11: ', acc_four_11)\n",
    "print('Accuracy, four, K=15: ', acc_four_15)\n",
    "print('Accuracy, four, K=20: ', acc_four_20)\n",
    "print('==================================================')\n",
    "# accuracy for fives\n",
    "acc_five_11 = knn_five_11.count(5) / len(knn_five_11)\n",
    "acc_five_15 = knn_five_15.count(5) / len(knn_five_15)\n",
    "acc_five_20 = knn_five_20.count(5) / len(knn_five_20)\n",
    "print('Accuracy, five, K=11: ', acc_five_11)\n",
    "print('Accuracy, five, K=15: ', acc_five_15)\n",
    "print('Accuracy, five, K=20: ', acc_five_20)\n",
    "print('==================================================')\n",
    "# accuracy for sixes\n",
    "acc_six_11 = knn_six_11.count(6) / len(knn_six_11)\n",
    "acc_six_15 = knn_six_15.count(6) / len(knn_six_15)\n",
    "acc_six_20 = knn_six_20.count(6) / len(knn_six_20)\n",
    "print('Accuracy, six, K=11: ', acc_six_11)\n",
    "print('Accuracy, six, K=15: ', acc_six_15)\n",
    "print('Accuracy, six, K=20: ', acc_six_20)\n",
    "print('==================================================')\n",
    "# accuracy for sevens\n",
    "acc_seven_11 = knn_seven_11.count(7) / len(knn_seven_11)\n",
    "acc_seven_15 = knn_seven_15.count(7) / len(knn_seven_15)\n",
    "acc_seven_20 = knn_seven_20.count(7) / len(knn_seven_20)\n",
    "print('Accuracy, seven, K=11: ', acc_seven_11)\n",
    "print('Accuracy, seven, K=15: ', acc_seven_15)\n",
    "print('Accuracy, seven, K=20: ', acc_seven_20)\n",
    "print('==================================================')\n",
    "# accuracy for eights\n",
    "acc_eight_11 = knn_eight_11.count(8) / len(knn_eight_11)\n",
    "acc_eight_15 = knn_eight_15.count(8) / len(knn_eight_15)\n",
    "acc_eight_20 = knn_eight_20.count(8) / len(knn_eight_20)\n",
    "print('Accuracy, eight, K=11: ', acc_eight_11)\n",
    "print('Accuracy, eight, K=15: ', acc_eight_15)\n",
    "print('Accuracy, eight, K=20: ', acc_eight_20)\n",
    "print('==================================================')\n",
    "# accuracy for nines\n",
    "acc_nine_11 = knn_nine_11.count(9) / len(knn_nine_11)\n",
    "acc_nine_15 = knn_nine_15.count(9) / len(knn_nine_15)\n",
    "acc_nine_20 = knn_nine_20.count(9) / len(knn_nine_20)\n",
    "print('Accuracy, nine, K=11: ', acc_nine_11)\n",
    "print('Accuracy, nine, K=15: ', acc_nine_15)\n",
    "print('Accuracy, nine, K=20: ', acc_nine_20)"
   ]
  },
  {
   "cell_type": "markdown",
   "metadata": {
    "id": "2gUCRuKNGiko"
   },
   "source": [
    "Average accuracy"
   ]
  },
  {
   "cell_type": "code",
   "execution_count": 40,
   "metadata": {
    "colab": {
     "base_uri": "https://localhost:8080/"
    },
    "id": "rajDxN1PGi7k",
    "outputId": "23f5123b-b680-45c6-8b85-de19905b7540"
   },
   "outputs": [
    {
     "name": "stdout",
     "output_type": "stream",
     "text": [
      "Accuracy, K=11:  0.3376923076923077\n",
      "Accuracy, K=15:  0.32205128205128203\n",
      "Accuracy, K=11:  0.31871794871794873\n"
     ]
    }
   ],
   "source": [
    "# K = 11\n",
    "avg_acc_11 = np.mean([acc_zero_11, acc_one_11, acc_two_11, acc_three_11, acc_four_11, acc_five_11, acc_six_11,\n",
    "                      acc_seven_11, acc_eight_11, acc_nine_11])\n",
    "print('Accuracy, K=11: ', avg_acc_11)\n",
    "# K = 15\n",
    "avg_acc_15 = np.mean([acc_zero_15, acc_one_15, acc_two_15, acc_three_15, acc_four_15, acc_five_15, acc_six_15,\n",
    "                      acc_seven_15, acc_eight_15, acc_nine_15])\n",
    "print('Accuracy, K=15: ', avg_acc_15)\n",
    "# K = 20\n",
    "avg_acc_20 = np.mean([acc_zero_20, acc_one_20, acc_two_20, acc_three_20, acc_four_20, acc_five_20, acc_six_20,\n",
    "                      acc_seven_20, acc_eight_20, acc_nine_20])\n",
    "print('Accuracy, K=11: ', avg_acc_20)"
   ]
  }
 ],
 "metadata": {
  "accelerator": "GPU",
  "colab": {
   "collapsed_sections": [],
   "name": "Q3.ipynb",
   "provenance": []
  },
  "kernelspec": {
   "display_name": "Python 3 (ipykernel)",
   "language": "python",
   "name": "python3"
  },
  "language_info": {
   "codemirror_mode": {
    "name": "ipython",
    "version": 3
   },
   "file_extension": ".py",
   "mimetype": "text/x-python",
   "name": "python",
   "nbconvert_exporter": "python",
   "pygments_lexer": "ipython3",
   "version": "3.9.7"
  }
 },
 "nbformat": 4,
 "nbformat_minor": 1
}
